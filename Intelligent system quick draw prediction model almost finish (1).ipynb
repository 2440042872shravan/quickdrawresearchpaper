{
 "cells": [
  {
   "cell_type": "code",
   "execution_count": 389,
   "id": "e3511d60",
   "metadata": {},
   "outputs": [],
   "source": [
    "#import all necessary libraries\n",
    "import pandas as pd\n",
    "import numpy as np\n",
    "import matplotlib.pyplot as plt\n",
    "from numpy import vectorize\n",
    "import json\n",
    "import time\n",
    "import feature_engineering_func as fe_func\n",
    "import cnn_func\n",
    "import ensemble_method_func as em_func\n",
    "from sklearn.model_selection import train_test_split"
   ]
  },
  {
   "cell_type": "code",
   "execution_count": 390,
   "id": "8197efb8",
   "metadata": {
    "scrolled": true
   },
   "outputs": [],
   "source": [
    "category = \"cat_word_ems\"\n",
    "filepath = \"cat.ndjson\"\n",
    "df = pd.read_json(filepath,lines=True)\n"
   ]
  },
  {
   "cell_type": "code",
   "execution_count": 391,
   "id": "311472d8",
   "metadata": {},
   "outputs": [
    {
     "name": "stderr",
     "output_type": "stream",
     "text": [
      "C:\\Users\\srini\\feature_engineering_func.py:197: SettingWithCopyWarning: \n",
      "A value is trying to be set on a copy of a slice from a DataFrame.\n",
      "Try using .loc[row_indexer,col_indexer] = value instead\n",
      "\n",
      "See the caveats in the documentation: https://pandas.pydata.org/pandas-docs/stable/user_guide/indexing.html#returning-a-view-versus-a-copy\n",
      "  1: filtered out data where Ymax is greater than 1.5\n"
     ]
    },
    {
     "name": "stdout",
     "output_type": "stream",
     "text": [
      "--- 639.8304665088654 seconds ---\n"
     ]
    }
   ],
   "source": [
    "fe_func.ensemble_function_for_feature_engineering_(df,category,30000,'word')\n",
    "#this creates new file in data folder \"./data/MY_feature_{}.pkl\".format(category)\n",
    "#if you want to work on image prediction run following:\n",
    "# fe_func.feature_engineering_ensemble(df,category,30000,'word')"
   ]
  },
  {
   "cell_type": "code",
   "execution_count": 392,
   "id": "8f3cdfbc",
   "metadata": {},
   "outputs": [
    {
     "name": "stderr",
     "output_type": "stream",
     "text": [
      "C:\\Users\\srini\\feature_engineering_func.py:338: FutureWarning: The default dtype for empty Series will be 'object' instead of 'float64' in a future version. Specify a dtype explicitly to silence this warning.\n",
      "  dx = [float(df_cf.drawing[index][stroke][1][-1] - df_cf.drawing[index][stroke][1][0]) \\\n",
      "C:\\Users\\srini\\feature_engineering_func.py:339: FutureWarning: The default dtype for empty Series will be 'object' instead of 'float64' in a future version. Specify a dtype explicitly to silence this warning.\n",
      "  for stroke in xrange(df_cf.stroke_number[index])]\n",
      "C:\\Users\\srini\\feature_engineering_func.py:340: FutureWarning: The default dtype for empty Series will be 'object' instead of 'float64' in a future version. Specify a dtype explicitly to silence this warning.\n",
      "  dy = [float(df_cf.drawing[index][stroke][0][-1] - df_cf.drawing[index][stroke][0][0]) \\\n",
      "C:\\Users\\srini\\feature_engineering_func.py:341: FutureWarning: The default dtype for empty Series will be 'object' instead of 'float64' in a future version. Specify a dtype explicitly to silence this warning.\n",
      "  for stroke in xrange(df_cf.stroke_number[index])]\n",
      "C:\\Users\\srini\\feature_engineering_func.py:342: FutureWarning: The default dtype for empty Series will be 'object' instead of 'float64' in a future version. Specify a dtype explicitly to silence this warning.\n",
      "  dx = np.array(dx)\n",
      "C:\\Users\\srini\\feature_engineering_func.py:343: FutureWarning: The default dtype for empty Series will be 'object' instead of 'float64' in a future version. Specify a dtype explicitly to silence this warning.\n",
      "  dy = np.array(dy)\n"
     ]
    },
    {
     "ename": "KeyError",
     "evalue": "'countrycode'",
     "output_type": "error",
     "traceback": [
      "\u001b[1;31m---------------------------------------------------------------------------\u001b[0m",
      "\u001b[1;31mKeyError\u001b[0m                                  Traceback (most recent call last)",
      "Cell \u001b[1;32mIn[392], line 1\u001b[0m\n\u001b[1;32m----> 1\u001b[0m df_final \u001b[38;5;241m=\u001b[39m \u001b[43mfe_func\u001b[49m\u001b[38;5;241;43m.\u001b[39;49m\u001b[43mThe_feature_engineering__for_CNN\u001b[49m\u001b[43m(\u001b[49m\u001b[43mdf\u001b[49m\u001b[43m,\u001b[49m\u001b[43mcategory\u001b[49m\u001b[43m,\u001b[49m\u001b[38;5;241;43m30000\u001b[39;49m\u001b[43m,\u001b[49m\u001b[38;5;124;43m'\u001b[39;49m\u001b[38;5;124;43mcountry\u001b[39;49m\u001b[38;5;124;43m'\u001b[39;49m\u001b[43m)\u001b[49m\n\u001b[0;32m      2\u001b[0m \u001b[38;5;66;03m#this creates new file in data folder \"./data/{}_15.pkl\".format(category)\u001b[39;00m\n\u001b[0;32m      3\u001b[0m \u001b[38;5;66;03m#if you want to work on image prediction run following:\u001b[39;00m\n\u001b[0;32m      4\u001b[0m \u001b[38;5;66;03m# df_final = fe_func.feature_engineering_CNN(df,category,30000,'word')\u001b[39;00m\n",
      "File \u001b[1;32m~\\feature_engineering_func.py:58\u001b[0m, in \u001b[0;36mThe_feature_engineering__for_CNN\u001b[1;34m(df, category, sample, purpose, countries)\u001b[0m\n\u001b[0;32m     56\u001b[0m elif purpose == 'country':\n\u001b[0;32m     57\u001b[0m     df_final = df_final[(df_final['countrycode']==countries[0])|\\\n\u001b[1;32m---> 58\u001b[0m             (df_final['countrycode']==countries[1])|\\\n\u001b[0;32m     59\u001b[0m            (df_final['countrycode']==countries[2])|(df_final['countrycode']==countries[3])]\n\u001b[0;32m     60\u001b[0m df_final.index = df_final['key_id']\n",
      "File \u001b[1;32m~\\AppData\\Local\\Programs\\Python\\Python310\\lib\\site-packages\\pandas\\core\\frame.py:3805\u001b[0m, in \u001b[0;36mDataFrame.__getitem__\u001b[1;34m(self, key)\u001b[0m\n\u001b[0;32m   3803\u001b[0m \u001b[38;5;28;01mif\u001b[39;00m \u001b[38;5;28mself\u001b[39m\u001b[38;5;241m.\u001b[39mcolumns\u001b[38;5;241m.\u001b[39mnlevels \u001b[38;5;241m>\u001b[39m \u001b[38;5;241m1\u001b[39m:\n\u001b[0;32m   3804\u001b[0m     \u001b[38;5;28;01mreturn\u001b[39;00m \u001b[38;5;28mself\u001b[39m\u001b[38;5;241m.\u001b[39m_getitem_multilevel(key)\n\u001b[1;32m-> 3805\u001b[0m indexer \u001b[38;5;241m=\u001b[39m \u001b[38;5;28;43mself\u001b[39;49m\u001b[38;5;241;43m.\u001b[39;49m\u001b[43mcolumns\u001b[49m\u001b[38;5;241;43m.\u001b[39;49m\u001b[43mget_loc\u001b[49m\u001b[43m(\u001b[49m\u001b[43mkey\u001b[49m\u001b[43m)\u001b[49m\n\u001b[0;32m   3806\u001b[0m \u001b[38;5;28;01mif\u001b[39;00m is_integer(indexer):\n\u001b[0;32m   3807\u001b[0m     indexer \u001b[38;5;241m=\u001b[39m [indexer]\n",
      "File \u001b[1;32m~\\AppData\\Local\\Programs\\Python\\Python310\\lib\\site-packages\\pandas\\core\\indexes\\range.py:395\u001b[0m, in \u001b[0;36mRangeIndex.get_loc\u001b[1;34m(self, key, method, tolerance)\u001b[0m\n\u001b[0;32m    393\u001b[0m             \u001b[38;5;28;01mraise\u001b[39;00m \u001b[38;5;167;01mKeyError\u001b[39;00m(key) \u001b[38;5;28;01mfrom\u001b[39;00m \u001b[38;5;21;01merr\u001b[39;00m\n\u001b[0;32m    394\u001b[0m     \u001b[38;5;28mself\u001b[39m\u001b[38;5;241m.\u001b[39m_check_indexing_error(key)\n\u001b[1;32m--> 395\u001b[0m     \u001b[38;5;28;01mraise\u001b[39;00m \u001b[38;5;167;01mKeyError\u001b[39;00m(key)\n\u001b[0;32m    396\u001b[0m \u001b[38;5;28;01mreturn\u001b[39;00m \u001b[38;5;28msuper\u001b[39m()\u001b[38;5;241m.\u001b[39mget_loc(key, method\u001b[38;5;241m=\u001b[39mmethod, tolerance\u001b[38;5;241m=\u001b[39mtolerance)\n",
      "\u001b[1;31mKeyError\u001b[0m: 'countrycode'"
     ]
    }
   ],
   "source": [
    "df_final = fe_func.The_feature_engineering__for_CNN(df,category,30000,'country')\n",
    "#this creates new file in data folder \"./data/{}_15.pkl\".format(category)\n",
    "#if you want to work on image prediction run following:\n",
    "# df_final = fe_func.feature_engineering_CNN(df,category,30000,'word')"
   ]
  },
  {
   "cell_type": "code",
   "execution_count": null,
   "id": "b59f209f",
   "metadata": {},
   "outputs": [],
   "source": [
    "df_airplane = pd.read_pickle('image.pkl')\n",
    "df_icecream = pd.read_pickle('image.pkl') #image recognition\n",
    "df_cloud = pd.read_pickle('image.pkl')\n",
    "df_baseball = pd.read_pickle('image.pkl')"
   ]
  },
  {
   "cell_type": "code",
   "execution_count": null,
   "id": "63a18a04",
   "metadata": {},
   "outputs": [],
   "source": [
    "ip_model,X_tr,y_tr,X_te,y_te = cnn_func.CNN_image_recognition(df_airplane,df_icecream,df_cloud,df_baseballbat,sample=30000,binary=False,\\\n",
    "                        convlayer =64,neuron =100, batchsize =128, epoch =20)"
   ]
  },
  {
   "cell_type": "code",
   "execution_count": null,
   "id": "21401bcc",
   "metadata": {},
   "outputs": [],
   "source": [
    "score = ip_model.evaluate(X_te,y_te)\n",
    "print score"
   ]
  },
  {
   "cell_type": "code",
   "execution_count": null,
   "id": "241bb610",
   "metadata": {},
   "outputs": [],
   "source": [
    "df_airplane = pd.read_pickle('country_CNN.pkl')\n",
    "df_icecream = pd.read_pickle('country_CNN.pkl') #country prediction\n",
    "df_cloud = pd.read_pickle('country_CNN.pkl')\n",
    "df_baseballbat = pd.read_pickle('country_CNN.pkl')"
   ]
  },
  {
   "cell_type": "code",
   "execution_count": 358,
   "id": "f16b457d",
   "metadata": {},
   "outputs": [
    {
     "ename": "AttributeError",
     "evalue": "module 'cnn_func' has no attribute 'CNN_country_prediction'",
     "output_type": "error",
     "traceback": [
      "\u001b[1;31m---------------------------------------------------------------------------\u001b[0m",
      "\u001b[1;31mAttributeError\u001b[0m                            Traceback (most recent call last)",
      "Cell \u001b[1;32mIn[358], line 1\u001b[0m\n\u001b[1;32m----> 1\u001b[0m cp_model,X_tr2,y_tr2,X_te2,y_te2 \u001b[38;5;241m=\u001b[39m \u001b[43mcnn_func\u001b[49m\u001b[38;5;241;43m.\u001b[39;49m\u001b[43mCNN_country_prediction\u001b[49m(df_cat,df_tiger,df_lion,df_dog,sample\u001b[38;5;241m=\u001b[39m\u001b[38;5;241m30000\u001b[39m,limit\u001b[38;5;241m=\u001b[39m\u001b[38;5;241m8000\u001b[39m,\n\u001b[0;32m      2\u001b[0m                                 binary\u001b[38;5;241m=\u001b[39m\u001b[38;5;28;01mFalse\u001b[39;00m, convlayer \u001b[38;5;241m=\u001b[39m\u001b[38;5;241m64\u001b[39m,neuron \u001b[38;5;241m=\u001b[39m\u001b[38;5;241m100\u001b[39m, \\\n\u001b[0;32m      3\u001b[0m                                             batchsize \u001b[38;5;241m=\u001b[39m\u001b[38;5;241m128\u001b[39m, epoch \u001b[38;5;241m=\u001b[39m\u001b[38;5;241m30\u001b[39m)\n",
      "\u001b[1;31mAttributeError\u001b[0m: module 'cnn_func' has no attribute 'CNN_country_prediction'"
     ]
    }
   ],
   "source": [
    "cp_model,X_tr2,y_tr2,X_te2,y_te2 = cnn_func.CNN_country_prediction(df_airplane,df_icecream,df_cloud,df_baseballbat,sample=30000,limit=8000,\n",
    "                                binary=False, convlayer =64,neuron =100, \\\n",
    "                                            batchsize =128, epoch =30)"
   ]
  },
  {
   "cell_type": "code",
   "execution_count": null,
   "id": "8321777f",
   "metadata": {},
   "outputs": [],
   "source": [
    "score2 = cp_model.evaluate(X_te2,y_te2)\n",
    "print \"\\nCNN Country prediction accuracy: {} percent\".format(score2[1]*100)"
   ]
  },
  {
   "cell_type": "code",
   "execution_count": null,
   "id": "bf358ea0",
   "metadata": {},
   "outputs": [],
   "source": [
    "df_airplane_en = pd.read_pickle('country_ems.pkl')\n",
    "df_icecream_en = pd.read_pickle('country_ems.pkl') #country predict using esemble method\n",
    "df_cloud_en = pd.read_pickle('country_ems.pkl')\n",
    "df_baseballbat_en = pd.read_pickle('country_ems.pkl')"
   ]
  },
  {
   "cell_type": "code",
   "execution_count": null,
   "id": "b50ed146",
   "metadata": {},
   "outputs": [],
   "source": [
    "new_df,Y,df_US,df_BR,df_RU,df_KR = em_func.data_preparer_ensemble(df_airplane,df_icecream,df_cloud, df_baseballbat lbl = 'countrycode', \\\n",
    "                                                        countries=['US','BR','RU','KR'],\\\n",
    "                                     words=['airplane','ice cream','cloud','baseball bat',sample=30000, limit = 8000)"
   ]
  },
  {
   "cell_type": "code",
   "execution_count": null,
   "id": "c1e71be3",
   "metadata": {},
   "outputs": [],
   "source": [
    "X_tr3,X_te3,y_tr3,y_te3 =train_test_split(new_df,Y,test_size = 0.15, \\\n",
    "                                                    random_state=831713, stratify = Y)"
   ]
  },
  {
   "cell_type": "code",
   "execution_count": null,
   "id": "a4fa01e1",
   "metadata": {},
   "outputs": [],
   "source": [
    "xgb =XGB.XGBClassifier(max_depth=1, n_estimators=1000, learning_rate=0.2)\n",
    "xgb.fit(np.array(X_tr3),np.array(y_tr3))\n",
    "score = xgb.score(np.array(X_te3),np.array(y_te3))\n",
    "print \"XGBoost Country prediction accuracy: {} percent\".format(score*100)"
   ]
  },
  {
   "cell_type": "code",
   "execution_count": null,
   "id": "5565929b",
   "metadata": {},
   "outputs": [],
   "source": [
    "xgb_test = XGB.XGBClassifier()\n",
    "parameters ={'max_depth':[1], 'n_estimators':[1000,1500,2000],'learning_rate':[0.1,0.2]}\n",
    "Gsearch = GridSearchCV(xgb,parameters)"
   ]
  },
  {
   "cell_type": "code",
   "execution_count": null,
   "id": "059ee9e9",
   "metadata": {},
   "outputs": [],
   "source": [
    "start_time = time.time()\n",
    "Gsearch.fit(X_tr3,y_tr3)\n",
    "print(\"--- %s seconds ---\" % (time.time() - start_time))"
   ]
  },
  {
   "cell_type": "code",
   "execution_count": null,
   "id": "5c2dded0",
   "metadata": {},
   "outputs": [],
   "source": [
    "Gsearch.best_estimator_"
   ]
  },
  {
   "cell_type": "code",
   "execution_count": null,
   "id": "94090aa5",
   "metadata": {},
   "outputs": [],
   "source": [
    "imp = [X_te3.columns[i] for i in ind]\n"
   ]
  },
  {
   "cell_type": "code",
   "execution_count": null,
   "id": "75b772c7",
   "metadata": {},
   "outputs": [],
   "source": [
    "imp[-15:]\n"
   ]
  },
  {
   "cell_type": "code",
   "execution_count": null,
   "id": "9162be07",
   "metadata": {},
   "outputs": [],
   "source": [
    "df_airplane_en2 = pd.read_pickle('image_ems.pkl')\n",
    "df_icecream_en2 = pd.read_pickle('image_ems.pkl') #image prediction using esemble method\n",
    "df_cloud_en2 = pd.read_pickle('image_ems.pkl')\n",
    "df_baseballbat_en2 = pd.read_pickle('image_ems.pkl')"
   ]
  },
  {
   "cell_type": "code",
   "execution_count": null,
   "id": "58a46a32",
   "metadata": {},
   "outputs": [],
   "source": [
    "X2,Y2 = em_func.data_preparer_ensemble(df_airplane_en2,df_icecream_en2, df_cloud_en2,df_baseballbat_en2 , \\\n",
    "                                          lbl = 'word', countries=['US','BR','RU','KR'],\\\n",
    "                                                     words=['airplane','ice cream','cloud','baseball bat'],\\\n",
    "                                                            sample=30000, limit = 8000)"
   ]
  },
  {
   "cell_type": "code",
   "execution_count": null,
   "id": "42fdcddd",
   "metadata": {},
   "outputs": [],
   "source": [
    "X_tr4,X_te4,y_tr4,y_te4 =train_test_split(X2,Y2,test_size = 0.15, \\\n",
    "                                                    random_state=831713, stratify = Y2)"
   ]
  },
  {
   "cell_type": "code",
   "execution_count": null,
   "id": "eafdd503",
   "metadata": {},
   "outputs": [],
   "source": [
    "xgb_test2 = XGB.XGBClassifier()\n",
    "parameters ={'max_depth':[1], 'n_estimators':[5000],'learning_rate':[0.25,0.5]}\n",
    "Gsearch2 = GridSearchCV(xgb_test2,parameters)"
   ]
  },
  {
   "cell_type": "code",
   "execution_count": null,
   "id": "0293b1a2",
   "metadata": {},
   "outputs": [],
   "source": [
    "start_time = time.time()\n",
    "Gsearch2.fit(X_tr4,y_tr4)\n",
    "print(\"--- %s seconds ---\" % (time.time() - start_time))"
   ]
  },
  {
   "cell_type": "code",
   "execution_count": null,
   "id": "4704bf44",
   "metadata": {},
   "outputs": [],
   "source": [
    "Gsearch2.best_estimator_"
   ]
  },
  {
   "cell_type": "code",
   "execution_count": null,
   "id": "26f57882",
   "metadata": {},
   "outputs": [],
   "source": [
    "ind2 = np.argsort(xgb2.feature_importances_)\n",
    "imp2 = [X_te4.columns[i] for i in ind2]"
   ]
  },
  {
   "cell_type": "code",
   "execution_count": null,
   "id": "dfbe084a",
   "metadata": {},
   "outputs": [],
   "source": [
    "imp2[-15:]"
   ]
  },
  {
   "cell_type": "code",
   "execution_count": null,
   "id": "2d1357a5",
   "metadata": {},
   "outputs": [],
   "source": [
    "airplane = np.load('airplane.npy')\n",
    "icecream = np.load('ice cream.npy')\n",
    "cloud = np.load('cloud.npy')\n",
    "\n",
    "print(airplane.shape)\n",
    "print(icecream.shape)\n",
    "print(cloud.shape)"
   ]
  },
  {
   "cell_type": "code",
   "execution_count": null,
   "id": "45a14858",
   "metadata": {},
   "outputs": [],
   "source": [
    "def plot_samples(input_array, rows=4, cols=5, title=''):\n",
    "    '''\n",
    "    Function to plot 28x28 pixel drawings that are stored in a numpy array.\n",
    "    Specify how many rows and cols of pictures to display (default 4x5).  \n",
    "    If the array contains less images than subplots selected, surplus subplots remain empty.\n",
    "    '''\n",
    "    \n",
    "    fig, ax = plt.subplots(figsize=(cols,rows))\n",
    "    ax.axis('off')\n",
    "    plt.title(title)\n",
    "\n",
    "    for i in list(range(0, min(len(input_array),(rows*cols)) )):      \n",
    "        a = fig.add_subplot(rows,cols,i+1)\n",
    "        imgplot = plt.imshow(input_array[i,:784].reshape((28,28)), cmap='gray_r', interpolation='nearest')\n",
    "        plt.xticks([])\n",
    "        plt.yticks([])"
   ]
  },
  {
   "cell_type": "code",
   "execution_count": null,
   "id": "f51c309f",
   "metadata": {},
   "outputs": [],
   "source": [
    "# add a column with labels\n",
    "airplane = np.c_[airplane, np.zeros(len(airplane))]\n",
    "icecream = np.c_[icecream, np.ones(len(icecream))]\n",
    "cloud = np.c_[cloud, 2*np.ones(len(cloud))]"
   ]
  },
  {
   "cell_type": "code",
   "execution_count": 333,
   "id": "fd7cc92a",
   "metadata": {},
   "outputs": [
    {
     "data": {
      "image/png": "[encoded data removed]",
      "text/plain": [
       "<Figure size 500x400 with 21 Axes>"
      ]
     },
     "metadata": {},
     "output_type": "display_data"
    }
   ],
   "source": [
    "plot_samples(airplane, title='Sample airplane drawings\\n')"
   ]
  },
  {
   "cell_type": "code",
   "execution_count": 334,
   "id": "fdc0226e",
   "metadata": {},
   "outputs": [
    {
     "data": {
      "image/png": "[encoded data removed]",
      "text/plain": [
       "<Figure size 500x400 with 21 Axes>"
      ]
     },
     "metadata": {},
     "output_type": "display_data"
    }
   ],
   "source": [
    "\n",
    "plot_samples(icecream, title='Sample ice cream drawings\\n')\n"
   ]
  },
  {
   "cell_type": "code",
   "execution_count": 335,
   "id": "87c29822",
   "metadata": {},
   "outputs": [
    {
     "data": {
      "image/png": "[encoded data removed]",
      "text/plain": [
       "<Figure size 500x400 with 21 Axes>"
      ]
     },
     "metadata": {},
     "output_type": "display_data"
    }
   ],
   "source": [
    "plot_samples(cloud, title='Sample cloud drawings\\n')"
   ]
  },
  {
   "cell_type": "code",
   "execution_count": 337,
   "id": "c687f331",
   "metadata": {},
   "outputs": [],
   "source": [
    "# merge the arrays, and split the features (X) and labels (y). Convert to float32 to save some memory.\n",
    "X = np.concatenate((airplane[:5000,:-1], icecream[:5000,:-1], cloud[:5000,:-1]), axis=0).astype('float32') # all columns but the last\n",
    "y = np.concatenate((airplane[:5000,-1], icecream[:5000,-1], cloud[:5000,-1],), axis=0).astype('float32') \n",
    "\n",
    "# train/test split (divide by 255 to obtain normalized values between 0 and 1)\n",
    "# I will use a 50:50 split, since I want to start by training the models on 5'000 samples and thus have plenty of samples to spare for testing.\n",
    "X_train, X_test, y_train, y_test = train_test_split(X/255.,y,test_size=0.5,random_state=0)"
   ]
  },
  {
   "cell_type": "code",
   "execution_count": 338,
   "id": "1e32626b",
   "metadata": {},
   "outputs": [],
   "source": [
    "# one hot encode outputs\n",
    "y_train_cnn = np_utils.to_categorical(y_train)\n",
    "y_test_cnn = np_utils.to_categorical(y_test)\n",
    "num_classes = y_test_cnn.shape[1]"
   ]
  },
  {
   "cell_type": "code",
   "execution_count": 344,
   "id": "d6013355",
   "metadata": {},
   "outputs": [],
   "source": [
    "# define the CNN model\n",
    "def cnn_model():\n",
    "    # create model\n",
    "    model = Sequential()\n",
    "    model.add(Conv2D(6,3,3,input_shape=(28,28,3),activation='relu'))\n",
    "    model.add(Conv2D(64, kernel_size=(48, 48), activation='relu', input_shape=(28,28,3), padding='same'))\n",
    "    model.add(Dropout(0.5))\n",
    "    model.add(Flatten())\n",
    "    model.add(Dense(28, activation='relu'))\n",
    "    model.add(Dense(5, activation='relu'))\n",
    "    model.add(Dense(num_classes, activation='softmax'))\n",
    "    # Compile model\n",
    "    model.compile(loss='categorical_crossentropy', optimizer='adam', metrics=['accuracy'])\n",
    "    return model"
   ]
  },
  {
   "cell_type": "code",
   "execution_count": 346,
   "id": "cbb6a99d",
   "metadata": {},
   "outputs": [
    {
     "name": "stdout",
     "output_type": "stream",
     "text": [
      "Epoch 1/10\n"
     ]
    },
    {
     "ename": "ValueError",
     "evalue": "in user code:\n\n    File \"C:\\Users\\srini\\AppData\\Local\\Programs\\Python\\Python310\\lib\\site-packages\\keras\\engine\\training.py\", line 1249, in train_function  *\n        return step_function(self, iterator)\n    File \"C:\\Users\\srini\\AppData\\Local\\Programs\\Python\\Python310\\lib\\site-packages\\keras\\engine\\training.py\", line 1233, in step_function  **\n        outputs = model.distribute_strategy.run(run_step, args=(data,))\n    File \"C:\\Users\\srini\\AppData\\Local\\Programs\\Python\\Python310\\lib\\site-packages\\keras\\engine\\training.py\", line 1222, in run_step  **\n        outputs = model.train_step(data)\n    File \"C:\\Users\\srini\\AppData\\Local\\Programs\\Python\\Python310\\lib\\site-packages\\keras\\engine\\training.py\", line 1023, in train_step\n        y_pred = self(x, training=True)\n    File \"C:\\Users\\srini\\AppData\\Local\\Programs\\Python\\Python310\\lib\\site-packages\\keras\\utils\\traceback_utils.py\", line 70, in error_handler\n        raise e.with_traceback(filtered_tb) from None\n    File \"C:\\Users\\srini\\AppData\\Local\\Programs\\Python\\Python310\\lib\\site-packages\\keras\\engine\\input_spec.py\", line 295, in assert_input_compatibility\n        raise ValueError(\n\n    ValueError: Input 0 of layer \"sequential_97\" is incompatible with the layer: expected shape=(None, 28, 28, 3), found shape=(None, 1, 28, 28)\n",
     "output_type": "error",
     "traceback": [
      "\u001b[1;31m---------------------------------------------------------------------------\u001b[0m",
      "\u001b[1;31mValueError\u001b[0m                                Traceback (most recent call last)",
      "File \u001b[1;32m<timed exec>:4\u001b[0m\n",
      "File \u001b[1;32m~\\AppData\\Local\\Programs\\Python\\Python310\\lib\\site-packages\\keras\\utils\\traceback_utils.py:70\u001b[0m, in \u001b[0;36mfilter_traceback.<locals>.error_handler\u001b[1;34m(*args, **kwargs)\u001b[0m\n\u001b[0;32m     67\u001b[0m     filtered_tb \u001b[38;5;241m=\u001b[39m _process_traceback_frames(e\u001b[38;5;241m.\u001b[39m__traceback__)\n\u001b[0;32m     68\u001b[0m     \u001b[38;5;66;03m# To get the full stack trace, call:\u001b[39;00m\n\u001b[0;32m     69\u001b[0m     \u001b[38;5;66;03m# `tf.debugging.disable_traceback_filtering()`\u001b[39;00m\n\u001b[1;32m---> 70\u001b[0m     \u001b[38;5;28;01mraise\u001b[39;00m e\u001b[38;5;241m.\u001b[39mwith_traceback(filtered_tb) \u001b[38;5;28;01mfrom\u001b[39;00m \u001b[38;5;28mNone\u001b[39m\n\u001b[0;32m     71\u001b[0m \u001b[38;5;28;01mfinally\u001b[39;00m:\n\u001b[0;32m     72\u001b[0m     \u001b[38;5;28;01mdel\u001b[39;00m filtered_tb\n",
      "File \u001b[1;32m~\\AppData\\Local\\Temp\\__autograph_generated_fileks42cmoj.py:15\u001b[0m, in \u001b[0;36mouter_factory.<locals>.inner_factory.<locals>.tf__train_function\u001b[1;34m(iterator)\u001b[0m\n\u001b[0;32m     13\u001b[0m \u001b[38;5;28;01mtry\u001b[39;00m:\n\u001b[0;32m     14\u001b[0m     do_return \u001b[38;5;241m=\u001b[39m \u001b[38;5;28;01mTrue\u001b[39;00m\n\u001b[1;32m---> 15\u001b[0m     retval_ \u001b[38;5;241m=\u001b[39m ag__\u001b[38;5;241m.\u001b[39mconverted_call(ag__\u001b[38;5;241m.\u001b[39mld(step_function), (ag__\u001b[38;5;241m.\u001b[39mld(\u001b[38;5;28mself\u001b[39m), ag__\u001b[38;5;241m.\u001b[39mld(iterator)), \u001b[38;5;28;01mNone\u001b[39;00m, fscope)\n\u001b[0;32m     16\u001b[0m \u001b[38;5;28;01mexcept\u001b[39;00m:\n\u001b[0;32m     17\u001b[0m     do_return \u001b[38;5;241m=\u001b[39m \u001b[38;5;28;01mFalse\u001b[39;00m\n",
      "\u001b[1;31mValueError\u001b[0m: in user code:\n\n    File \"C:\\Users\\srini\\AppData\\Local\\Programs\\Python\\Python310\\lib\\site-packages\\keras\\engine\\training.py\", line 1249, in train_function  *\n        return step_function(self, iterator)\n    File \"C:\\Users\\srini\\AppData\\Local\\Programs\\Python\\Python310\\lib\\site-packages\\keras\\engine\\training.py\", line 1233, in step_function  **\n        outputs = model.distribute_strategy.run(run_step, args=(data,))\n    File \"C:\\Users\\srini\\AppData\\Local\\Programs\\Python\\Python310\\lib\\site-packages\\keras\\engine\\training.py\", line 1222, in run_step  **\n        outputs = model.train_step(data)\n    File \"C:\\Users\\srini\\AppData\\Local\\Programs\\Python\\Python310\\lib\\site-packages\\keras\\engine\\training.py\", line 1023, in train_step\n        y_pred = self(x, training=True)\n    File \"C:\\Users\\srini\\AppData\\Local\\Programs\\Python\\Python310\\lib\\site-packages\\keras\\utils\\traceback_utils.py\", line 70, in error_handler\n        raise e.with_traceback(filtered_tb) from None\n    File \"C:\\Users\\srini\\AppData\\Local\\Programs\\Python\\Python310\\lib\\site-packages\\keras\\engine\\input_spec.py\", line 295, in assert_input_compatibility\n        raise ValueError(\n\n    ValueError: Input 0 of layer \"sequential_97\" is incompatible with the layer: expected shape=(None, 28, 28, 3), found shape=(None, 1, 28, 28)\n"
     ]
    }
   ],
   "source": [
    "%%time\n",
    "# build the model\n",
    "model = cnn_model()\n",
    "# Fit the model\n",
    "model.fit(X_train_cnn, y_train_cnn, validation_data=(X_test_cnn, y_test_cnn), epochs=10, batch_size=400)\n",
    "# Final evaluation of the model\n",
    "scores = model.evaluate(X_test_cnn, y_test_cnn, verbose=0)\n",
    "print('Final CNN accuracy: ', scores[1])"
   ]
  },
  {
   "cell_type": "code",
   "execution_count": null,
   "id": "70941a8b",
   "metadata": {},
   "outputs": [],
   "source": []
  }
 ],
 "metadata": {
  "kernelspec": {
   "display_name": "Python 3 (ipykernel)",
   "language": "python",
   "name": "python3"
  },
  "language_info": {
   "codemirror_mode": {
    "name": "ipython",
    "version": 3
   },
   "file_extension": ".py",
   "mimetype": "text/x-python",
   "name": "python",
   "nbconvert_exporter": "python",
   "pygments_lexer": "ipython3",
   "version": "3.10.9"
  }
 },
 "nbformat": 4,
 "nbformat_minor": 5
}
